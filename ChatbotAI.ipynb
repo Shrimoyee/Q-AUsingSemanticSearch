{
 "cells": [
  {
   "cell_type": "code",
   "execution_count": 89,
   "id": "3329176d-c7b4-4416-9ace-ca1a1ab22a4d",
   "metadata": {},
   "outputs": [],
   "source": [
    "#Load credentials and relevant python libraries"
   ]
  },
  {
   "cell_type": "code",
   "execution_count": 170,
   "id": "d0176bf0-21f9-447d-858e-43c9afa35eb0",
   "metadata": {},
   "outputs": [],
   "source": [
    "import sys, os\n",
    "\n",
    "# Make sure the current notebook's folder is searched first\n",
    "notebook_dir = os.path.abspath(\"\")\n",
    "if notebook_dir not in sys.path:\n",
    "    sys.path.insert(0, notebook_dir)"
   ]
  },
  {
   "cell_type": "code",
   "execution_count": 172,
   "id": "91360bf6-d8a4-4b36-baf3-9948a92307d3",
   "metadata": {},
   "outputs": [],
   "source": [
    "from google.auth.transport.requests import Request\n",
    "from google.oauth2.service_account import Credentials"
   ]
  },
  {
   "cell_type": "code",
   "execution_count": 174,
   "id": "2721f5f3-8341-4d95-bb55-ac0cee2896d1",
   "metadata": {},
   "outputs": [],
   "source": [
    "from utils import authenticate\n",
    "credentials, PROJECT_ID = authenticate() # Get credentials and project ID"
   ]
  },
  {
   "cell_type": "code",
   "execution_count": 176,
   "id": "d45e0bbd-56bd-4694-8147-0b3c8ccfe08d",
   "metadata": {},
   "outputs": [],
   "source": [
    "# Path to your service account key file\n",
    "key_path = 'chatbot-key.json' #Path to the json key associated with your service account from google cloud"
   ]
  },
  {
   "cell_type": "code",
   "execution_count": 178,
   "id": "469a3190-086b-44c9-9848-13d5251859ce",
   "metadata": {},
   "outputs": [],
   "source": [
    "# Create credentials object\n",
    "\n",
    "credentials = Credentials.from_service_account_file(\n",
    "    key_path,\n",
    "    scopes=['https://www.googleapis.com/auth/cloud-platform'])\n",
    "\n",
    "if credentials.expired:\n",
    "    credentials.refresh(Request())"
   ]
  },
  {
   "cell_type": "code",
   "execution_count": 180,
   "id": "61b90946-6ad6-4a51-b116-e94c37d0929e",
   "metadata": {},
   "outputs": [],
   "source": [
    "PROJECT_ID = 'chatbot-ai-463712'\n",
    "REGION = 'us-central1'"
   ]
  },
  {
   "cell_type": "code",
   "execution_count": 182,
   "id": "90a672fb-6f73-4669-8486-c1db05f4196f",
   "metadata": {},
   "outputs": [],
   "source": [
    "import vertexai\n",
    "\n",
    "# initialize vertex\n",
    "vertexai.init(project = PROJECT_ID, location = REGION, credentials = credentials)"
   ]
  },
  {
   "cell_type": "code",
   "execution_count": 184,
   "id": "07e89812-5fc5-4342-b413-c106e534b611",
   "metadata": {},
   "outputs": [],
   "source": [
    "## Load Stack Overflow questions and answers from BigQuery\n",
    "import pandas as pd"
   ]
  },
  {
   "cell_type": "code",
   "execution_count": 186,
   "id": "01cf6981-20dd-40d1-84c0-e0fd566ea366",
   "metadata": {},
   "outputs": [],
   "source": [
    "#Using premade data which contains an excel of python stackoverflow question and answers\n",
    "so_database = pd.read_csv('so_database_app.csv')"
   ]
  },
  {
   "cell_type": "code",
   "execution_count": 188,
   "id": "9c368659-6aa9-49ff-8417-336516c5ec62",
   "metadata": {},
   "outputs": [
    {
     "name": "stdout",
     "output_type": "stream",
     "text": [
      "Shape: (2000, 3)\n",
      "                                             input_text  \\\n",
      "0     python's inspect.getfile returns \"<string>\"<p>...   \n",
      "1     Passing parameter to function while multithrea...   \n",
      "2     How do we test a specific method written in a ...   \n",
      "3     how can i remove the black bg color of an imag...   \n",
      "4     How to extract each sheet within an Excel file...   \n",
      "...                                                 ...   \n",
      "1995  Is it possible to made inline-block elements l...   \n",
      "1996  Flip Clock code works on Codepen and doesn't w...   \n",
      "1997  React Native How can I put one view in front o...   \n",
      "1998  setting fixed width with 100% height of the pa...   \n",
      "1999  How to make sidebar button not bring viewpoint...   \n",
      "\n",
      "                                            output_text category  \n",
      "0     <p><code>&lt;string&gt;</code> means that the ...   python  \n",
      "1     <p>Try this and note the difference:</p>\\n<pre...   python  \n",
      "2     <p>Duplicate of <a href=\"https://stackoverflow...   python  \n",
      "3     <p>The alpha channel &quot;disappears&quot; be...   python  \n",
      "4     <p>You need to specify the <code>index</code> ...   python  \n",
      "...                                                 ...      ...  \n",
      "1995  <p>If this is only for the visual purpose then...      css  \n",
      "1996  <p>You forgot to attach the CSS file for the f...      css  \n",
      "1997  <p>You can do it using zIndex for example:</p>...      css  \n",
      "1998  <p>You can use <code>width: calc(100% - 100px)...      css  \n",
      "1999  <p>It is quite simple, just remove that href=\"...      css  \n",
      "\n",
      "[2000 rows x 3 columns]\n"
     ]
    }
   ],
   "source": [
    "print(\"Shape: \" + str(so_database.shape))\n",
    "print(so_database)"
   ]
  },
  {
   "cell_type": "code",
   "execution_count": 190,
   "id": "e430edc6-c624-483b-b2a7-612e4679e59a",
   "metadata": {},
   "outputs": [],
   "source": [
    "#Loading the question embeddings"
   ]
  },
  {
   "cell_type": "code",
   "execution_count": 192,
   "id": "eb8d25d0-5b37-4f39-862a-cc10a5a1eaa6",
   "metadata": {},
   "outputs": [],
   "source": [
    "from vertexai.language_models import TextEmbeddingModel"
   ]
  },
  {
   "cell_type": "code",
   "execution_count": 194,
   "id": "d33f95a9-2190-421b-a90a-dcd3debb1b19",
   "metadata": {},
   "outputs": [],
   "source": [
    "embedding_model = TextEmbeddingModel.from_pretrained(\n",
    "    \"text-embedding-005\")"
   ]
  },
  {
   "cell_type": "code",
   "execution_count": 196,
   "id": "322ef8eb-f459-4302-b2a6-75438760ac45",
   "metadata": {},
   "outputs": [],
   "source": [
    "import numpy as np\n",
    "from utils import encode_text_to_embedding_batched"
   ]
  },
  {
   "cell_type": "code",
   "execution_count": 119,
   "id": "3c7974c7-4c94-4617-a76f-89fea9452751",
   "metadata": {},
   "outputs": [],
   "source": [
    "#In this project we are given with an already embedded data to save on API costs. The following to be used for further projects\n",
    "# Encode the stack overflow data\n",
    "\n",
    "#so_questions = so_database.input_text.tolist()\n",
    "#question_embeddings = encode_text_to_embedding_batched(\n",
    "#            sentences = so_questions,\n",
    "#            api_calls_per_second = 20/60, \n",
    "#            batch_size = 5)"
   ]
  },
  {
   "cell_type": "code",
   "execution_count": 198,
   "id": "737652be-723f-4392-b310-6449008edfd2",
   "metadata": {},
   "outputs": [
    {
     "name": "stdout",
     "output_type": "stream",
     "text": [
      "[[-0.03571156 -0.00240684  0.05860338 ... -0.03100227 -0.00855574\n",
      "  -0.01997405]\n",
      " [-0.02024316 -0.0026255   0.01940405 ... -0.02158143 -0.05655403\n",
      "  -0.01040497]\n",
      " [-0.05175979 -0.03712264  0.02699278 ... -0.07055898 -0.0402537\n",
      "   0.00092099]\n",
      " ...\n",
      " [-0.00580394 -0.01621097  0.05829635 ... -0.03350992 -0.05343556\n",
      "  -0.06016821]\n",
      " [-0.00436622 -0.02692963  0.03363771 ... -0.01686567 -0.03812337\n",
      "  -0.02329491]\n",
      " [-0.04240424 -0.01633749  0.05516777 ... -0.02697376 -0.01751165\n",
      "  -0.04558187]]\n"
     ]
    }
   ],
   "source": [
    "import pickle\n",
    "with open('question_embeddings_app.pkl', 'rb') as file:\n",
    "      \n",
    "    # Call load method to deserialze\n",
    "    question_embeddings = pickle.load(file)\n",
    "  \n",
    "    print(question_embeddings)"
   ]
  },
  {
   "cell_type": "code",
   "execution_count": 200,
   "id": "567f0e20-d5c1-4439-b01c-dad871b55983",
   "metadata": {},
   "outputs": [],
   "source": [
    "so_database['embeddings'] = question_embeddings.tolist()"
   ]
  },
  {
   "cell_type": "code",
   "execution_count": 202,
   "id": "c862dbb5-302e-4606-a508-6bc1495989a4",
   "metadata": {},
   "outputs": [
    {
     "data": {
      "text/html": [
       "<div>\n",
       "<style scoped>\n",
       "    .dataframe tbody tr th:only-of-type {\n",
       "        vertical-align: middle;\n",
       "    }\n",
       "\n",
       "    .dataframe tbody tr th {\n",
       "        vertical-align: top;\n",
       "    }\n",
       "\n",
       "    .dataframe thead th {\n",
       "        text-align: right;\n",
       "    }\n",
       "</style>\n",
       "<table border=\"1\" class=\"dataframe\">\n",
       "  <thead>\n",
       "    <tr style=\"text-align: right;\">\n",
       "      <th></th>\n",
       "      <th>input_text</th>\n",
       "      <th>output_text</th>\n",
       "      <th>category</th>\n",
       "      <th>embeddings</th>\n",
       "    </tr>\n",
       "  </thead>\n",
       "  <tbody>\n",
       "    <tr>\n",
       "      <th>0</th>\n",
       "      <td>python's inspect.getfile returns \"&lt;string&gt;\"&lt;p&gt;...</td>\n",
       "      <td>&lt;p&gt;&lt;code&gt;&amp;lt;string&amp;gt;&lt;/code&gt; means that the ...</td>\n",
       "      <td>python</td>\n",
       "      <td>[-0.03571155667304993, -0.0024068362545222044,...</td>\n",
       "    </tr>\n",
       "    <tr>\n",
       "      <th>1</th>\n",
       "      <td>Passing parameter to function while multithrea...</td>\n",
       "      <td>&lt;p&gt;Try this and note the difference:&lt;/p&gt;\\n&lt;pre...</td>\n",
       "      <td>python</td>\n",
       "      <td>[-0.020243162289261818, -0.002625499852001667,...</td>\n",
       "    </tr>\n",
       "    <tr>\n",
       "      <th>2</th>\n",
       "      <td>How do we test a specific method written in a ...</td>\n",
       "      <td>&lt;p&gt;Duplicate of &lt;a href=\"https://stackoverflow...</td>\n",
       "      <td>python</td>\n",
       "      <td>[-0.05175979062914848, -0.03712264448404312, 0...</td>\n",
       "    </tr>\n",
       "    <tr>\n",
       "      <th>3</th>\n",
       "      <td>how can i remove the black bg color of an imag...</td>\n",
       "      <td>&lt;p&gt;The alpha channel &amp;quot;disappears&amp;quot; be...</td>\n",
       "      <td>python</td>\n",
       "      <td>[0.02206624671816826, -0.028208276256918907, 0...</td>\n",
       "    </tr>\n",
       "    <tr>\n",
       "      <th>4</th>\n",
       "      <td>How to extract each sheet within an Excel file...</td>\n",
       "      <td>&lt;p&gt;You need to specify the &lt;code&gt;index&lt;/code&gt; ...</td>\n",
       "      <td>python</td>\n",
       "      <td>[-0.05498068407177925, -0.0032414537854492664,...</td>\n",
       "    </tr>\n",
       "    <tr>\n",
       "      <th>...</th>\n",
       "      <td>...</td>\n",
       "      <td>...</td>\n",
       "      <td>...</td>\n",
       "      <td>...</td>\n",
       "    </tr>\n",
       "    <tr>\n",
       "      <th>1995</th>\n",
       "      <td>Is it possible to made inline-block elements l...</td>\n",
       "      <td>&lt;p&gt;If this is only for the visual purpose then...</td>\n",
       "      <td>css</td>\n",
       "      <td>[-0.009190441109240055, -0.01732615754008293, ...</td>\n",
       "    </tr>\n",
       "    <tr>\n",
       "      <th>1996</th>\n",
       "      <td>Flip Clock code works on Codepen and doesn't w...</td>\n",
       "      <td>&lt;p&gt;You forgot to attach the CSS file for the f...</td>\n",
       "      <td>css</td>\n",
       "      <td>[-0.009033069014549255, -0.0009270847076550126...</td>\n",
       "    </tr>\n",
       "    <tr>\n",
       "      <th>1997</th>\n",
       "      <td>React Native How can I put one view in front o...</td>\n",
       "      <td>&lt;p&gt;You can do it using zIndex for example:&lt;/p&gt;...</td>\n",
       "      <td>css</td>\n",
       "      <td>[-0.005803938489407301, -0.016210969537496567,...</td>\n",
       "    </tr>\n",
       "    <tr>\n",
       "      <th>1998</th>\n",
       "      <td>setting fixed width with 100% height of the pa...</td>\n",
       "      <td>&lt;p&gt;You can use &lt;code&gt;width: calc(100% - 100px)...</td>\n",
       "      <td>css</td>\n",
       "      <td>[-0.004366223234683275, -0.02692963369190693, ...</td>\n",
       "    </tr>\n",
       "    <tr>\n",
       "      <th>1999</th>\n",
       "      <td>How to make sidebar button not bring viewpoint...</td>\n",
       "      <td>&lt;p&gt;It is quite simple, just remove that href=\"...</td>\n",
       "      <td>css</td>\n",
       "      <td>[-0.04240424185991287, -0.016337493434548378, ...</td>\n",
       "    </tr>\n",
       "  </tbody>\n",
       "</table>\n",
       "<p>2000 rows × 4 columns</p>\n",
       "</div>"
      ],
      "text/plain": [
       "                                             input_text  \\\n",
       "0     python's inspect.getfile returns \"<string>\"<p>...   \n",
       "1     Passing parameter to function while multithrea...   \n",
       "2     How do we test a specific method written in a ...   \n",
       "3     how can i remove the black bg color of an imag...   \n",
       "4     How to extract each sheet within an Excel file...   \n",
       "...                                                 ...   \n",
       "1995  Is it possible to made inline-block elements l...   \n",
       "1996  Flip Clock code works on Codepen and doesn't w...   \n",
       "1997  React Native How can I put one view in front o...   \n",
       "1998  setting fixed width with 100% height of the pa...   \n",
       "1999  How to make sidebar button not bring viewpoint...   \n",
       "\n",
       "                                            output_text category  \\\n",
       "0     <p><code>&lt;string&gt;</code> means that the ...   python   \n",
       "1     <p>Try this and note the difference:</p>\\n<pre...   python   \n",
       "2     <p>Duplicate of <a href=\"https://stackoverflow...   python   \n",
       "3     <p>The alpha channel &quot;disappears&quot; be...   python   \n",
       "4     <p>You need to specify the <code>index</code> ...   python   \n",
       "...                                                 ...      ...   \n",
       "1995  <p>If this is only for the visual purpose then...      css   \n",
       "1996  <p>You forgot to attach the CSS file for the f...      css   \n",
       "1997  <p>You can do it using zIndex for example:</p>...      css   \n",
       "1998  <p>You can use <code>width: calc(100% - 100px)...      css   \n",
       "1999  <p>It is quite simple, just remove that href=\"...      css   \n",
       "\n",
       "                                             embeddings  \n",
       "0     [-0.03571155667304993, -0.0024068362545222044,...  \n",
       "1     [-0.020243162289261818, -0.002625499852001667,...  \n",
       "2     [-0.05175979062914848, -0.03712264448404312, 0...  \n",
       "3     [0.02206624671816826, -0.028208276256918907, 0...  \n",
       "4     [-0.05498068407177925, -0.0032414537854492664,...  \n",
       "...                                                 ...  \n",
       "1995  [-0.009190441109240055, -0.01732615754008293, ...  \n",
       "1996  [-0.009033069014549255, -0.0009270847076550126...  \n",
       "1997  [-0.005803938489407301, -0.016210969537496567,...  \n",
       "1998  [-0.004366223234683275, -0.02692963369190693, ...  \n",
       "1999  [-0.04240424185991287, -0.016337493434548378, ...  \n",
       "\n",
       "[2000 rows x 4 columns]"
      ]
     },
     "execution_count": 202,
     "metadata": {},
     "output_type": "execute_result"
    }
   ],
   "source": [
    "so_database"
   ]
  },
  {
   "cell_type": "code",
   "execution_count": 127,
   "id": "8bc42dfa-f596-4268-9774-305ec57f7f7c",
   "metadata": {},
   "outputs": [],
   "source": [
    "## Semantic Search\n",
    "\n",
    "#When a user asks a question, we can embed their query on the fly and search over all of the Stack Overflow question embeddings to find the most simliar datapoint."
   ]
  },
  {
   "cell_type": "code",
   "execution_count": 317,
   "id": "e62b0aa5-60b5-4e2c-9ca5-b6e8d4d70ea6",
   "metadata": {},
   "outputs": [],
   "source": [
    "import numpy as np\n",
    "\n",
    "from sklearn.metrics.pairwise import cosine_similarity\n",
    "from sklearn.metrics import pairwise_distances_argmin as distances_argmin"
   ]
  },
  {
   "cell_type": "code",
   "execution_count": 319,
   "id": "4aff79cd-ab0f-4f7b-95ae-66d3a0504d94",
   "metadata": {},
   "outputs": [],
   "source": [
    "query = ['How to create App.js file']\n",
    "\n",
    "#query = ['To test an individual file we use the syntact pytest tests/file_name.py but I want to test a specific method in that file. Is there any way to test it like that?']"
   ]
  },
  {
   "cell_type": "code",
   "execution_count": 321,
   "id": "5610e811-d9c3-4a05-a12b-12cd3f98d11d",
   "metadata": {},
   "outputs": [],
   "source": [
    "query_embedding = embedding_model.get_embeddings(query)[0].values"
   ]
  },
  {
   "cell_type": "code",
   "execution_count": 322,
   "id": "709386e4-eaae-4e3c-a6dc-a4cfbfbae4e1",
   "metadata": {},
   "outputs": [],
   "source": [
    "cos_sim_array = cosine_similarity([query_embedding],\n",
    "                                  list(so_database.embeddings.values))"
   ]
  },
  {
   "cell_type": "code",
   "execution_count": 324,
   "id": "316700eb-2613-46aa-a0d6-b84fe8add181",
   "metadata": {},
   "outputs": [
    {
     "data": {
      "text/plain": [
       "(1, 2000)"
      ]
     },
     "execution_count": 324,
     "metadata": {},
     "output_type": "execute_result"
    }
   ],
   "source": [
    "cos_sim_array.shape"
   ]
  },
  {
   "cell_type": "code",
   "execution_count": 327,
   "id": "4f8a414f-de66-4585-b368-3dd6de4d9ff1",
   "metadata": {},
   "outputs": [],
   "source": [
    "#Once we have the embedding for both the query embeddings and database embeddings, we can use similarity search to retreive the value of the most similar value in database."
   ]
  },
  {
   "cell_type": "code",
   "execution_count": 329,
   "id": "d6b898ae-9956-4bf8-b0a8-82d23ccc1f2a",
   "metadata": {},
   "outputs": [],
   "source": [
    "index_doc_cosine = np.argmax(cos_sim_array)"
   ]
  },
  {
   "cell_type": "code",
   "execution_count": 331,
   "id": "134de05a-cd2b-4461-bfce-5f31ddb54c62",
   "metadata": {},
   "outputs": [],
   "source": [
    "index_doc_distances = distances_argmin([query_embedding], \n",
    "                                       list(so_database.embeddings.values))[0]"
   ]
  },
  {
   "cell_type": "code",
   "execution_count": 333,
   "id": "9946ba0c-538b-485d-b1f4-cd384d4f4802",
   "metadata": {},
   "outputs": [
    {
     "data": {
      "text/plain": [
       "\"How to use virtual environment installed on Ubuntu which is installed on Windows?<p>Recently, I've installed  airflow on Windows 10 by installing it on Ubuntu from MS Store. And I can see Airflow web-server from a browser from Windows. However, now I want to create a DAG using Pycharm on Windows, and I have to select python interpreter with airflow installed in its venv.</p>\\n<p>Where can I find this virtual environment from Windows?</p>\""
      ]
     },
     "execution_count": 333,
     "metadata": {},
     "output_type": "execute_result"
    }
   ],
   "source": [
    "so_database.input_text[index_doc_cosine]"
   ]
  },
  {
   "cell_type": "code",
   "execution_count": 335,
   "id": "450be3d9-2cb6-414b-82d9-dd2003e4bb61",
   "metadata": {
    "scrolled": true
   },
   "outputs": [
    {
     "data": {
      "text/plain": [
       "'<p>I solved this problem myself. WSL is the feature of Pycharm professional edition, and there is no way to use it in the community edition.</p>\\n<p><a href=\"https://www.jetbrains.com/help/pycharm/using-wsl-as-a-remote-interpreter.html#configure-wsl\" rel=\"nofollow noreferrer\">https://www.jetbrains.com/help/pycharm/using-wsl-as-a-remote-interpreter.html#configure-wsl</a></p>'"
      ]
     },
     "execution_count": 335,
     "metadata": {},
     "output_type": "execute_result"
    }
   ],
   "source": [
    "so_database.output_text[index_doc_cosine]"
   ]
  },
  {
   "cell_type": "code",
   "execution_count": 337,
   "id": "7253a0da-6b34-4a14-83a3-b10fbe899560",
   "metadata": {},
   "outputs": [],
   "source": [
    "# Now we create Question answering with relevant context\n",
    "#Now that we have found the most simliar Stack Overflow question, we can take the corresponding answer and use an LLM to produce a more conversational response."
   ]
  },
  {
   "cell_type": "code",
   "execution_count": 339,
   "id": "630831b8-8c19-4687-957c-95b79bacce59",
   "metadata": {},
   "outputs": [],
   "source": [
    "from vertexai.preview.generative_models import GenerativeModel\n",
    "from vertexai.preview.generative_models import GenerationConfig"
   ]
  },
  {
   "cell_type": "code",
   "execution_count": 341,
   "id": "5c34899e-86b4-41c7-9114-d56438fd57bd",
   "metadata": {},
   "outputs": [],
   "source": [
    "#generation_model = TextGenerationModel.from_pretrained(\n",
    "#    \"text-bison@002\")\n",
    "model = GenerativeModel(\"gemini-2.0-flash-lite-001\")"
   ]
  },
  {
   "cell_type": "code",
   "execution_count": 359,
   "id": "9c1e6e68-653c-4ad9-984f-d121e7b67b67",
   "metadata": {},
   "outputs": [
    {
     "name": "stdout",
     "output_type": "stream",
     "text": [
      "Context Used:\n",
      " Question: How to use virtual environment installed on Ubuntu which is installed on Windows?<p>Recently, I've installed  airflow on Windows 10 by installing it on Ubuntu from MS Store. And I can see Airflow web-server from a browser from Windows. However, now I want to create a DAG using Pycharm on Windows, and I have to select python interpreter with airflow installed in its venv.</p>\n",
      "<p>Where can I find this virtual environment from Windows?</p>\n",
      " Answer: <p>I solved this problem myself. WSL is the feature of Pycharm professional edition, and there is no way to use it in the community edition.</p>\n",
      "<p><a href=\"https://www.jetbrains.com/help/pycharm/using-wsl-as-a-remote-interpreter.html#configure-wsl\" rel=\"nofollow noreferrer\">https://www.jetbrains.com/help/pycharm/using-wsl-as-a-remote-interpreter.html#configure-wsl</a></p>\n"
     ]
    }
   ],
   "source": [
    "context = \"Question: \" + so_database.input_text[index_doc_cosine] +\\\n",
    "\"\\n Answer: \" + so_database.output_text[index_doc_cosine]\n",
    "\n",
    "query = \"Where can I find this virtual environment from Windows\"\n",
    "\n",
    "print(\"Context Used:\\n\", context)"
   ]
  },
  {
   "cell_type": "code",
   "execution_count": 361,
   "id": "2ce84020-11b6-4714-9e54-13c079a8db28",
   "metadata": {},
   "outputs": [
    {
     "name": "stdout",
     "output_type": "stream",
     "text": [
      "I solved this problem myself. WSL is the feature of Pycharm professional edition, and there is no way to use it in the community edition.\n",
      "https://www.jetbrains.com/help/pycharm/using-wsl-as-a-remote-interpreter.html#configure-wsl\n",
      "\n"
     ]
    }
   ],
   "source": [
    "prompt = f\"\"\"You are a helpful assistant that answers programming-related questions.\n",
    "Use the relevant information from the provided context to answer the user's question.\n",
    "If the context does not help, reply with:\n",
    "\"I couldn't find a good match in the document database for your query\"\n",
    "\n",
    "Context:\n",
    "{context}\n",
    "\n",
    "User's Question:\n",
    "{query}\n",
    "\n",
    "Answer:\"\"\"\n",
    "# 4️⃣ Generate the answer\n",
    "response = model.generate_content(prompt)\n",
    "print(response.text)"
   ]
  },
  {
   "cell_type": "code",
   "execution_count": 355,
   "id": "0dd3ffe0-22c9-45ba-976d-82b1ff963f02",
   "metadata": {},
   "outputs": [
    {
     "name": "stdout",
     "output_type": "stream",
     "text": [
      "I couldn't find a good match in the document database for your query\n",
      "\n"
     ]
    }
   ],
   "source": [
    "# Generate the answer with high randomness\n",
    "config = GenerationConfig(\n",
    "    temperature=0.7,\n",
    "    top_p=0.8,\n",
    "    max_output_tokens=256\n",
    ")\n",
    "response = model.generate_content(prompt, generation_config=config )\n",
    "answer = response.text\n",
    "print(answer)"
   ]
  },
  {
   "cell_type": "code",
   "execution_count": null,
   "id": "a4f50956-c76a-4caf-98dc-a2cdce7c627a",
   "metadata": {},
   "outputs": [],
   "source": [
    "#Now the chatbot is working as expected using gemini flash!"
   ]
  }
 ],
 "metadata": {
  "kernelspec": {
   "display_name": "Python [conda env:base] *",
   "language": "python",
   "name": "conda-base-py"
  },
  "language_info": {
   "codemirror_mode": {
    "name": "ipython",
    "version": 3
   },
   "file_extension": ".py",
   "mimetype": "text/x-python",
   "name": "python",
   "nbconvert_exporter": "python",
   "pygments_lexer": "ipython3",
   "version": "3.12.7"
  }
 },
 "nbformat": 4,
 "nbformat_minor": 5
}
